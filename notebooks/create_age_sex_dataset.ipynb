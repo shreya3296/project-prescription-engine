{
 "cells": [
  {
   "cell_type": "code",
   "execution_count": 22,
   "id": "29ecc989-e9e3-4ed5-a126-1671c942be61",
   "metadata": {
    "tags": []
   },
   "outputs": [],
   "source": [
    "import pandas as pd\n",
    "import json\n",
    "import zipfile\n",
    "import os\n",
    "import ast \n",
    "import pandas as pd\n",
    "from sklearn.model_selection import train_test_split\n",
    "import openai"
   ]
  },
  {
   "cell_type": "code",
   "execution_count": 2,
   "id": "ff512cf4-0a53-4488-b30f-255d7bf53564",
   "metadata": {
    "tags": []
   },
   "outputs": [
    {
     "name": "stdout",
     "output_type": "stream",
     "text": [
      "New working directory: /Users/andres/Library/CloudStorage/GoogleDrive-alvaro0126@gmail.com/Mi unidad/HKS MPA/2023-II/COMPSCI2015/Project\n"
     ]
    }
   ],
   "source": [
    "# Set the working directory\n",
    "workdir = '/Users/andres/Library/CloudStorage/GoogleDrive-alvaro0126@gmail.com/Mi unidad/HKS MPA/2023-II/COMPSCI2015/Project/'\n",
    "os.chdir(workdir)\n",
    "# Print the new current working directory to confirm the change\n",
    "print(\"New working directory:\", os.getcwd())"
   ]
  },
  {
   "cell_type": "code",
   "execution_count": 3,
   "id": "e3c00a6d-c812-4155-a961-b8c265ccc351",
   "metadata": {
    "tags": []
   },
   "outputs": [],
   "source": [
    "# Load evidences and conditions\n",
    "\n",
    "with open('/Users/andres/Library/CloudStorage/GoogleDrive-alvaro0126@gmail.com/Mi unidad/HKS MPA/2023-II/COMPSCI2015/Project/DDXPlus_Dataset_English/release_evidences.json') as f:\n",
    "    evidences = json.load(f)\n",
    "\n",
    "with open('/Users/andres/Library/CloudStorage/GoogleDrive-alvaro0126@gmail.com/Mi unidad/HKS MPA/2023-II/COMPSCI2015/Project/DDXPlus_Dataset_English/release_conditions.json') as f:\n",
    "    conditions = json.load(f)\n",
    "\n",
    "# Read patient data (assuming CSV format)\n",
    "patients_df = pd.read_csv('/Users/andres/Library/CloudStorage/GoogleDrive-alvaro0126@gmail.com/Mi unidad/HKS MPA/2023-II/COMPSCI2015/Project/DDXPlus_Dataset_English/release_train_patients')"
   ]
  },
  {
   "cell_type": "code",
   "execution_count": 4,
   "id": "cb6684eb-3c7d-47a6-9343-1d719806e973",
   "metadata": {
    "tags": []
   },
   "outputs": [],
   "source": [
    "# Function to map evidence ID to its description\n",
    "def map_evidence_to_description(evidence_id, patient_evidence_value, evidences):\n",
    "    evidence = evidences.get(evidence_id)\n",
    "    if not evidence:\n",
    "        return 'Unknown evidence'\n",
    "\n",
    "    description = evidence.get('question_en', 'Unknown question')\n",
    "    \n",
    "    if evidence['data_type'] in ['C', 'M']:\n",
    "        value_meaning = evidence.get('value_meaning', {})\n",
    "        value_description = value_meaning.get(patient_evidence_value, {}).get('en', 'Unknown value')\n",
    "        description += \" (\" + value_description + \")\"\n",
    "    \n",
    "    return description"
   ]
  },
  {
   "cell_type": "code",
   "execution_count": 5,
   "id": "fb5f4544-534c-49a2-82a6-a8093449f576",
   "metadata": {
    "tags": []
   },
   "outputs": [],
   "source": [
    "# Function to map condition ID to its ICD-10 code\n",
    "def map_condition_to_icd10(condition_id, conditions):\n",
    "    condition = conditions.get(condition_id)\n",
    "    if condition:\n",
    "        return condition.get('icd10-id', 'Unknown')\n",
    "    return 'Unknown'"
   ]
  },
  {
   "cell_type": "code",
   "execution_count": 6,
   "id": "0e603cab-af41-4f56-9155-9a6e5be2b0ea",
   "metadata": {
    "tags": []
   },
   "outputs": [],
   "source": [
    "# Create DataFrame with required columns\n",
    "df = pd.DataFrame(columns=['age', 'gender', 'diagnosis', 'ICD 10 code', 'symptoms', 'antecedents'])"
   ]
  },
  {
   "cell_type": "code",
   "execution_count": 7,
   "id": "b7c371b0-c286-4bf0-b056-e7a301fa7587",
   "metadata": {
    "tags": []
   },
   "outputs": [
    {
     "name": "stdout",
     "output_type": "stream",
     "text": [
      "Index(['AGE', 'DIFFERENTIAL_DIAGNOSIS', 'SEX', 'PATHOLOGY', 'EVIDENCES',\n",
      "       'INITIAL_EVIDENCE'],\n",
      "      dtype='object')\n"
     ]
    }
   ],
   "source": [
    "print(patients_df.columns)\n"
   ]
  },
  {
   "cell_type": "code",
   "execution_count": 12,
   "id": "a5a69126-1e58-477e-9939-d6e45d034975",
   "metadata": {
    "tags": []
   },
   "outputs": [
    {
     "name": "stdout",
     "output_type": "stream",
     "text": [
      "   age gender                diagnosis ICD 10 code  \\\n",
      "0   18      M                     URTI       j06.9   \n",
      "1   21      M  HIV (initial infection)         B20   \n",
      "2   19      F                Pneumonia    j17, j18   \n",
      "3   34      F                     URTI       j06.9   \n",
      "4   36      M                     URTI       j06.9   \n",
      "\n",
      "                                            symptoms  \\\n",
      "0  Have you had significantly increased sweating?...   \n",
      "1  Do you have swollen or painful lymph nodes? Ha...   \n",
      "2  Do you have pain somewhere, related to your re...   \n",
      "3  Do you have pain somewhere, related to your re...   \n",
      "4  Have you had significantly increased sweating?...   \n",
      "\n",
      "                                         antecedents  \n",
      "0  Do you live with 4 or more people? Do you smok...  \n",
      "1  Have you ever had a sexually transmitted infec...  \n",
      "2  Do you drink alcohol excessively or do you hav...  \n",
      "3  Do you live with 4 or more people? Have you tr...  \n",
      "4  Do you attend or work in a daycare? Have you t...  \n"
     ]
    }
   ],
   "source": [
    "rows = []\n",
    "\n",
    "for index, row in patients_df.iterrows():\n",
    "    # Map diagnosis to ICD-10 code\n",
    "    icd_10_code = map_condition_to_icd10(row['PATHOLOGY'], conditions)\n",
    "\n",
    "    # Convert symptoms and antecedents to natural language\n",
    "    symptoms = []\n",
    "    antecedents = []\n",
    "\n",
    "    # Convert the 'EVIDENCES' string to a list\n",
    "    try:\n",
    "        evidences_list = ast.literal_eval(row['EVIDENCES'])\n",
    "    except ValueError:\n",
    "        # Handle cases where 'EVIDENCES' is not a valid list string\n",
    "        evidences_list = []\n",
    "\n",
    "    for evidence_str in evidences_list:\n",
    "        parts = evidence_str.split('_@_')\n",
    "        evidence_id = parts[0]\n",
    "        value = parts[1] if len(parts) > 1 else None\n",
    "\n",
    "        description = map_evidence_to_description(evidence_id, value, evidences)\n",
    "        if evidences.get(evidence_id, {}).get('is_antecedent', False):\n",
    "            antecedents.append(description)\n",
    "        else:\n",
    "            symptoms.append(description)\n",
    "\n",
    "    # Append the data to the DataFrame\n",
    "    rows.append({\n",
    "        'age': row['AGE'],\n",
    "        'gender': row['SEX'],\n",
    "        'diagnosis': row['PATHOLOGY'],\n",
    "        'ICD 10 code': icd_10_code,\n",
    "        'symptoms': ' '.join(symptoms),\n",
    "        'antecedents': ' '.join(antecedents)\n",
    "    })\n",
    "\n",
    "df = pd.DataFrame(rows)\n",
    "\n",
    "print(df.head())"
   ]
  },
  {
   "cell_type": "code",
   "execution_count": 20,
   "id": "f568b31c-05e4-44c5-bfd7-0598361b093a",
   "metadata": {},
   "outputs": [
    {
     "data": {
      "text/plain": [
       "(1025602, 6)"
      ]
     },
     "execution_count": 20,
     "metadata": {},
     "output_type": "execute_result"
    }
   ],
   "source": [
    "df.shape"
   ]
  },
  {
   "cell_type": "code",
   "execution_count": 16,
   "id": "833629fd-9b12-4287-bb59-91eaa187d41d",
   "metadata": {},
   "outputs": [
    {
     "data": {
      "text/plain": [
       "Index(['age', 'gender', 'diagnosis', 'ICD 10 code', 'symptoms', 'antecedents'], dtype='object')"
      ]
     },
     "execution_count": 16,
     "metadata": {},
     "output_type": "execute_result"
    }
   ],
   "source": [
    "df.columns"
   ]
  },
  {
   "cell_type": "code",
   "execution_count": 18,
   "id": "3a553f83-3c29-4587-9cdd-caffd640dade",
   "metadata": {},
   "outputs": [],
   "source": [
    "len(df['ICD 10 code'].unique())"
   ]
  },
  {
   "cell_type": "code",
   "execution_count": 19,
   "id": "6ad37117-2125-49b0-ac00-82a215898a8b",
   "metadata": {
    "collapsed": true,
    "jupyter": {
     "outputs_hidden": true
    },
    "tags": []
   },
   "outputs": [
    {
     "name": "stdout",
     "output_type": "stream",
     "text": [
      "Sampled Symptoms:\n",
      "Do you have pain that improves when you lean forward? Do you have pain somewhere, related to your reason for consulting? Characterize your pain: (a knife stroke) Characterize your pain: (sharp) Do you feel pain somewhere? (tonsil(R)) Do you feel pain somewhere? (tonsil(L)) Do you feel pain somewhere? (back of the neck) Do you feel pain somewhere? (palace) Do you feel pain somewhere? (pharynx) How intense is the pain? (Unknown value) Does the pain radiate to another location? (nowhere) How precisely is the pain located? (Unknown value) How fast did the pain appear? (Unknown value) Do you have difficulty swallowing, or have a feeling of discomfort/blockage when swallowing? Are you experiencing shortness of breath or difficulty breathing in a significant way? Do you have a fever (either felt or measured with a thermometer)? Have you noticed that you produce more saliva than usual? Have you noticed a high pitched sound when breathing in? Have you noticed that the tone of your voice has become deeper, softer or hoarse?\n",
      "Do you have pain somewhere, related to your reason for consulting? Characterize your pain: (heartbreaking) Characterize your pain: (haunting) Characterize your pain: (a knife stroke) Characterize your pain: (sickening) Do you feel pain somewhere? (lower chest) Do you feel pain somewhere? (flank(R)) Do you feel pain somewhere? (upper chest) Do you feel pain somewhere? (belly) Do you feel pain somewhere? (epigastric) How intense is the pain? (Unknown value) Does the pain radiate to another location? (scapula(R)) Does the pain radiate to another location? (scapula(L)) How precisely is the pain located? (Unknown value) How fast did the pain appear? (Unknown value) Are you experiencing shortness of breath or difficulty breathing in a significant way? Are you feeling nauseous or do you feel like vomiting? Have you vomited several times or have you made several efforts to vomit?\n",
      "Do you have pain somewhere, related to your reason for consulting? Characterize your pain: (tedious) Characterize your pain: (heavy) Characterize your pain: (exhausting) Do you feel pain somewhere? (lower chest) Do you feel pain somewhere? (side of the chest(L)) Do you feel pain somewhere? (upper chest) Do you feel pain somewhere? (breast(R)) Do you feel pain somewhere? (epigastric) How intense is the pain? (Unknown value) Does the pain radiate to another location? (thyroid cartilage) Does the pain radiate to another location? (trachea) Does the pain radiate to another location? (triceps(L)) Does the pain radiate to another location? (shoulder(R)) Does the pain radiate to another location? (shoulder(L)) How precisely is the pain located? (Unknown value) How fast did the pain appear? (Unknown value) Are you experiencing shortness of breath or difficulty breathing in a significant way?\n",
      "Have you been coughing up blood? Do you have pain somewhere, related to your reason for consulting? Characterize your pain: (sensitive) Do you feel pain somewhere? (side of the chest(L)) Do you feel pain somewhere? (scapula(R)) Do you feel pain somewhere? (scapula(L)) Do you feel pain somewhere? (posterior chest wall(R)) Do you feel pain somewhere? (posterior chest wall(L)) How intense is the pain? (Unknown value) Does the pain radiate to another location? (side of the chest(R)) Does the pain radiate to another location? (side of the chest(L)) Does the pain radiate to another location? (upper chest) Does the pain radiate to another location? (breast(R)) Does the pain radiate to another location? (breast(L)) How precisely is the pain located? (Unknown value) How fast did the pain appear? (Unknown value) Are you experiencing shortness of breath or difficulty breathing in a significant way? Do you have swelling in one or more areas of your body? Where is the swelling located? (posterior aspect of the ankle(R)) Where is the swelling located? (posterior aspect of the ankle(L)) Did you lose consciousness?\n",
      "Do you have pain somewhere, related to your reason for consulting? Characterize your pain: (haunting) Characterize your pain: (a knife stroke) Characterize your pain: (tugging) Characterize your pain: (burning) Characterize your pain: (sickening) Characterize your pain: (scary) Do you feel pain somewhere? (hypochondrium(R)) Do you feel pain somewhere? (hypochondrium(L)) How intense is the pain? (Unknown value) Does the pain radiate to another location? (upper chest) How precisely is the pain located? (Unknown value) How fast did the pain appear? (Unknown value) Have you recently had stools that were black (like coal)? Do you have a burning sensation that starts in your stomach then goes up into your throat, and can be associated with a bitter taste in your mouth? Do you have a cough? Do you have symptoms that get worse after eating? Are your symptoms worse when lying down and alleviated while sitting up?\n",
      "Have you been in contact with or ate something that you have an allergy to? Have you had diarrhea or an increase in stool frequency? Do you have pain somewhere, related to your reason for consulting? Characterize your pain: (a knife stroke) Do you feel pain somewhere? (flank(R)) Do you feel pain somewhere? (pubis) Do you feel pain somewhere? (epigastric) How intense is the pain? (Unknown value) Does the pain radiate to another location? (nowhere) How precisely is the pain located? (Unknown value) How fast did the pain appear? (Unknown value) Are you experiencing shortness of breath or difficulty breathing in a significant way? Do you feel lightheaded and dizzy or do you feel like you are about to faint? Do you have any lesions, redness or problems on your skin that you believe are related to the condition you are consulting for? What color is the rash? (pink) Do your lesions peel off? (N) Is the rash swollen? (Unknown value) Where is the affected region located? (back of the neck) Where is the affected region located? (biceps(R)) Where is the affected region located? (biceps(L)) Where is the affected region located? (mouth) Where is the affected region located? (thyroid cartilage) How intense is the pain caused by the rash? (Unknown value) Is the lesion (or are the lesions) larger than 1cm? (Y) How severe is the itching? (Unknown value) Do you have swelling in one or more areas of your body? Where is the swelling located? (forehead) Where is the swelling located? (cheek(L)) Did you lose consciousness? Have you noticed a wheezing sound when you exhale?\n",
      "Do you find that your symptoms have worsened over the last 2 weeks and that progressively less effort is required to cause the symptoms? Do you have pain somewhere, related to your reason for consulting? Characterize your pain: (tedious) Characterize your pain: (heavy) Characterize your pain: (exhausting) Do you feel pain somewhere? (thyroid cartilage) Do you feel pain somewhere? (side of the chest(L)) Do you feel pain somewhere? (upper chest) Do you feel pain somewhere? (breast(R)) Do you feel pain somewhere? (breast(L)) How intense is the pain? (Unknown value) Does the pain radiate to another location? (biceps(R)) Does the pain radiate to another location? (biceps(L)) Does the pain radiate to another location? (trachea) Does the pain radiate to another location? (triceps(L)) Does the pain radiate to another location? (shoulder(L)) How precisely is the pain located? (Unknown value) How fast did the pain appear? (Unknown value) Are you feeling nauseous or do you feel like vomiting? Do you have symptoms that are increased with physical exertion but alleviated with rest?\n",
      "Have you had significantly increased sweating? Do you have pain somewhere, related to your reason for consulting? Characterize your pain: (tedious) Characterize your pain: (sensitive) Characterize your pain: (heavy) Do you feel pain somewhere? (cheek(L)) Do you feel pain somewhere? (temple(R)) How intense is the pain? (Unknown value) Does the pain radiate to another location? (nowhere) How precisely is the pain located? (Unknown value) How fast did the pain appear? (Unknown value) Do you have a fever (either felt or measured with a thermometer)? Do you have a sore throat? Do you have nasal congestion or a clear runny nose?\n",
      "Have you had significantly increased sweating? Do you have pain somewhere, related to your reason for consulting? Characterize your pain: (tedious) Characterize your pain: (sensitive) Do you feel pain somewhere? (top of the head) Do you feel pain somewhere? (cheek(R)) Do you feel pain somewhere? (cheek(L)) Do you feel pain somewhere? (occiput) Do you feel pain somewhere? (temple(R)) How intense is the pain? (Unknown value) Does the pain radiate to another location? (nowhere) How precisely is the pain located? (Unknown value) How fast did the pain appear? (Unknown value) Do you have a fever (either felt or measured with a thermometer)? Do you have a sore throat? Do you have nasal congestion or a clear runny nose?\n",
      "Do you have pain somewhere, related to your reason for consulting? Characterize your pain: (sensitive) Characterize your pain: (sharp) Do you feel pain somewhere? (ear(R)) Do you feel pain somewhere? (ear(L)) How intense is the pain? (Unknown value) Does the pain radiate to another location? (nowhere) How precisely is the pain located? (Unknown value) How fast did the pain appear? (Unknown value) Do you have a fever (either felt or measured with a thermometer)? Are you more irritable or has your mood been very unstable recently? Do you have nasal congestion or a clear runny nose? Do you have a cough?\n",
      "\n",
      "Sampled Antecedents:\n",
      "Do you have high blood pressure or do you take medications to treat high blood pressure? Have you traveled out of the country in the last 4 weeks? (N) Are your vaccinations up to date?\n",
      "Do you drink alcohol excessively or do you have an addiction to alcohol? Have you traveled out of the country in the last 4 weeks? (N)\n",
      "Do you have diabetes? Are you significantly overweight compared to people of the same height as you? Do you have high cholesterol or do you take medications to treat high cholesterol? Do you drink alcohol excessively or do you have an addiction to alcohol? Do you smoke cigarettes? Do you have high blood pressure or do you take medications to treat high blood pressure? Have you ever had a heart attack or do you have angina (chest pain)? Do you exercise regularly, 4 times per week or more? Have you traveled out of the country in the last 4 weeks? (N) Do you have close family members who had a cardiovascular disease problem before the age of 50?\n",
      "Do you have an active cancer? Do you currently take hormones? Have you had surgery within the last month? Have you traveled out of the country in the last 4 weeks? (North America)\n",
      "Are you significantly overweight compared to people of the same height as you? Do you drink alcohol excessively or do you have an addiction to alcohol? Do you have a hiatal hernia? Do you have asthma or have you ever had to use a bronchodilator in the past? Do you think you are pregnant or are you currently pregnant? Have you traveled out of the country in the last 4 weeks? (N)\n",
      "Do you have a known severe food allergy? Have you traveled out of the country in the last 4 weeks? (N) Are you more likely to develop common allergies than the general population?\n",
      "Are you significantly overweight compared to people of the same height as you? Do you have high cholesterol or do you take medications to treat high cholesterol? Do you have high blood pressure or do you take medications to treat high blood pressure? Have you ever had a heart attack or do you have angina (chest pain)? Have you traveled out of the country in the last 4 weeks? (N) Do you have close family members who had a cardiovascular disease problem before the age of 50?\n",
      "Have you been in contact with a person with similar symptoms in the past 2 weeks? Do you live with 4 or more people? Do you attend or work in a daycare? Do you smoke cigarettes? Have you traveled out of the country in the last 4 weeks? (North America) Are you exposed to secondhand cigarette smoke on a daily basis?\n",
      "Have you been in contact with a person with similar symptoms in the past 2 weeks? Do you attend or work in a daycare? Do you smoke cigarettes? Have you traveled out of the country in the last 4 weeks? (N)\n",
      "Have you traveled out of the country in the last 4 weeks? (North America) Are your vaccinations up to date?\n"
     ]
    }
   ],
   "source": [
    "import random\n",
    "\n",
    "# Randomly select 10 rows\n",
    "sampled_rows = df.sample(n=10, random_state=random.seed())\n",
    "\n",
    "# Extract symptoms and antecedents\n",
    "sampled_symptoms = sampled_rows['symptoms'].tolist()\n",
    "sampled_antecedents = sampled_rows['antecedents'].tolist()\n",
    "\n",
    "# Print the sampled symptoms and antecedents\n",
    "print(\"Sampled Symptoms:\")\n",
    "for symptom in sampled_symptoms:\n",
    "    print(symptom)\n",
    "\n",
    "print(\"\\nSampled Antecedents:\")\n",
    "for antecedent in sampled_antecedents:\n",
    "    print(antecedent)\n"
   ]
  },
  {
   "cell_type": "code",
   "execution_count": 29,
   "id": "8b4481fc-cfa7-4414-bae5-1eff7916a26a",
   "metadata": {
    "tags": []
   },
   "outputs": [],
   "source": [
    "#now, lets transform the questionarie into narratives\n",
    "#first, we are going to sample our data set, we have 1 million observations\n",
    "# Stratify the DataFrame based on 'age', 'gender', 'ICD 10 code'\n",
    "\n",
    "# first, we remove classes with 1 observations\n",
    "# Combining stratification columns into a single column\n",
    "df['combined_stratify'] = df['age'].astype(str) + '_' + df['gender'] + '_' + df['ICD 10 code']\n",
    "\n",
    "# Filter out combinations with fewer than the threshold\n",
    "min_members_threshold = 2\n",
    "value_counts = df['combined_stratify'].value_counts()\n",
    "to_keep = value_counts[value_counts >= min_members_threshold].index\n",
    "filtered_df = df[df['combined_stratify'].isin(to_keep)]\n",
    "\n",
    "# Perform stratified sampling on the filtered DataFrame\n",
    "sampled_df, _ = train_test_split(filtered_df, test_size=0.99, stratify=filtered_df['combined_stratify'], random_state=42)"
   ]
  },
  {
   "cell_type": "code",
   "execution_count": 30,
   "id": "e7f7781c-99a6-4468-9d2c-8824917a35d2",
   "metadata": {
    "tags": []
   },
   "outputs": [
    {
     "data": {
      "text/plain": [
       "(10255, 7)"
      ]
     },
     "execution_count": 30,
     "metadata": {},
     "output_type": "execute_result"
    }
   ],
   "source": [
    "sampled_df.shape"
   ]
  },
  {
   "cell_type": "code",
   "execution_count": null,
   "id": "bc735d27-3b7e-4a7b-a284-afae04dee41c",
   "metadata": {
    "tags": []
   },
   "outputs": [],
   "source": [
    "#API key from OpenAI\n",
    "openai.api_key = 'xxxxxxxx'\n",
    "\n",
    "def transform_text_with_gpt3(questionnaire_text):\n",
    "    try:\n",
    "        # Framing the prompt with an instruction\n",
    "        prompt = (\"Convert the following medical questionnaire text into a narrative format as if a patient is describing their symptoms:\\n\" +\n",
    "                  questionnaire_text)\n",
    "\n",
    "        response = openai.Completion.create(\n",
    "            engine=\"text-davinci-003\",  # or another suitable engine\n",
    "            prompt=prompt,\n",
    "            max_tokens=150  # Adjust as needed\n",
    "        )\n",
    "        return response.choices[0].text.strip()\n",
    "    except Exception as e:\n",
    "        print(\"Error in transforming text:\", e)\n",
    "        return None\n",
    "\n",
    "# Transform text for each row in the sampled DataFrame\n",
    "for index, row in sampled_df.iterrows():\n",
    "    transformed_symptoms = transform_text_with_gpt3(row['symptoms'])\n",
    "\n",
    "    # Optionally, you can store these back in the DataFrame\n",
    "    sampled_df.at[index, 'transformed_symptoms'] = transformed_symptoms"
   ]
  },
  {
   "cell_type": "code",
   "execution_count": 39,
   "id": "80277a07-7779-477f-bb6b-f3003398a3fb",
   "metadata": {
    "tags": []
   },
   "outputs": [
    {
     "data": {
      "text/html": [
       "<div>\n",
       "<style scoped>\n",
       "    .dataframe tbody tr th:only-of-type {\n",
       "        vertical-align: middle;\n",
       "    }\n",
       "\n",
       "    .dataframe tbody tr th {\n",
       "        vertical-align: top;\n",
       "    }\n",
       "\n",
       "    .dataframe thead th {\n",
       "        text-align: right;\n",
       "    }\n",
       "</style>\n",
       "<table border=\"1\" class=\"dataframe\">\n",
       "  <thead>\n",
       "    <tr style=\"text-align: right;\">\n",
       "      <th></th>\n",
       "      <th>age</th>\n",
       "      <th>gender</th>\n",
       "      <th>diagnosis</th>\n",
       "      <th>ICD 10 code</th>\n",
       "      <th>symptoms</th>\n",
       "      <th>antecedents</th>\n",
       "      <th>combined_stratify</th>\n",
       "      <th>transformed_symptoms</th>\n",
       "    </tr>\n",
       "  </thead>\n",
       "  <tbody>\n",
       "    <tr>\n",
       "      <th>409766</th>\n",
       "      <td>70</td>\n",
       "      <td>M</td>\n",
       "      <td>Acute otitis media</td>\n",
       "      <td>H66.90</td>\n",
       "      <td>Do you have pain somewhere, related to your re...</td>\n",
       "      <td>Have you traveled out of the country in the la...</td>\n",
       "      <td>70_M_H66.90</td>\n",
       "      <td>I am consulting because of pain. The pain is l...</td>\n",
       "    </tr>\n",
       "    <tr>\n",
       "      <th>978500</th>\n",
       "      <td>14</td>\n",
       "      <td>F</td>\n",
       "      <td>Atrial fibrillation</td>\n",
       "      <td>I48.91</td>\n",
       "      <td>Do you feel slightly dizzy or lightheaded? Do ...</td>\n",
       "      <td>Do you have a known issue with one of your hea...</td>\n",
       "      <td>14_F_I48.91</td>\n",
       "      <td>I have been feeling slightly dizzy or lighthea...</td>\n",
       "    </tr>\n",
       "    <tr>\n",
       "      <th>687747</th>\n",
       "      <td>27</td>\n",
       "      <td>F</td>\n",
       "      <td>Larygospasm</td>\n",
       "      <td>J38.5</td>\n",
       "      <td>Have you noticed a high pitched sound when bre...</td>\n",
       "      <td>Have you ever been diagnosed with gastroesopha...</td>\n",
       "      <td>27_F_J38.5</td>\n",
       "      <td>I have noticed that when I take a deep breath,...</td>\n",
       "    </tr>\n",
       "    <tr>\n",
       "      <th>887971</th>\n",
       "      <td>1</td>\n",
       "      <td>F</td>\n",
       "      <td>Larygospasm</td>\n",
       "      <td>J38.5</td>\n",
       "      <td>Have you noticed a high pitched sound when bre...</td>\n",
       "      <td>Do you smoke cigarettes? Have you had a cold i...</td>\n",
       "      <td>1_F_J38.5</td>\n",
       "      <td>Yes, I have noticed a high pitched sound when ...</td>\n",
       "    </tr>\n",
       "    <tr>\n",
       "      <th>339957</th>\n",
       "      <td>54</td>\n",
       "      <td>M</td>\n",
       "      <td>Anemia</td>\n",
       "      <td>D64.9</td>\n",
       "      <td>Do you have pain somewhere, related to your re...</td>\n",
       "      <td>Do you have a poor diet? Have you ever had a d...</td>\n",
       "      <td>54_M_D64.9</td>\n",
       "      <td>I am experiencing pain related to the reason I...</td>\n",
       "    </tr>\n",
       "  </tbody>\n",
       "</table>\n",
       "</div>"
      ],
      "text/plain": [
       "        age gender            diagnosis ICD 10 code  \\\n",
       "409766   70      M   Acute otitis media      H66.90   \n",
       "978500   14      F  Atrial fibrillation      I48.91   \n",
       "687747   27      F          Larygospasm       J38.5   \n",
       "887971    1      F          Larygospasm       J38.5   \n",
       "339957   54      M               Anemia       D64.9   \n",
       "\n",
       "                                                 symptoms  \\\n",
       "409766  Do you have pain somewhere, related to your re...   \n",
       "978500  Do you feel slightly dizzy or lightheaded? Do ...   \n",
       "687747  Have you noticed a high pitched sound when bre...   \n",
       "887971  Have you noticed a high pitched sound when bre...   \n",
       "339957  Do you have pain somewhere, related to your re...   \n",
       "\n",
       "                                              antecedents combined_stratify  \\\n",
       "409766  Have you traveled out of the country in the la...       70_M_H66.90   \n",
       "978500  Do you have a known issue with one of your hea...       14_F_I48.91   \n",
       "687747  Have you ever been diagnosed with gastroesopha...        27_F_J38.5   \n",
       "887971  Do you smoke cigarettes? Have you had a cold i...         1_F_J38.5   \n",
       "339957  Do you have a poor diet? Have you ever had a d...        54_M_D64.9   \n",
       "\n",
       "                                     transformed_symptoms  \n",
       "409766  I am consulting because of pain. The pain is l...  \n",
       "978500  I have been feeling slightly dizzy or lighthea...  \n",
       "687747  I have noticed that when I take a deep breath,...  \n",
       "887971  Yes, I have noticed a high pitched sound when ...  \n",
       "339957  I am experiencing pain related to the reason I...  "
      ]
     },
     "execution_count": 39,
     "metadata": {},
     "output_type": "execute_result"
    }
   ],
   "source": [
    "sampled_df.head()"
   ]
  },
  {
   "cell_type": "code",
   "execution_count": 46,
   "id": "b84363a3-a1a0-4d26-827a-3ab81bbf40c4",
   "metadata": {
    "tags": []
   },
   "outputs": [],
   "source": [
    "csv_file_path = '/Users/andres/Library/CloudStorage/GoogleDrive-alvaro0126@gmail.com/Mi unidad/HKS MPA/2023-II/COMPSCI2015/Project/DDXPlus_Dataset_English/age_sex_symp_data.csv'\n"
   ]
  },
  {
   "cell_type": "code",
   "execution_count": 47,
   "id": "98b54b79-27f7-4798-b053-d0b3a4cfeb1b",
   "metadata": {
    "tags": []
   },
   "outputs": [],
   "source": [
    "sampled_df.to_csv(csv_file_path, index=False)"
   ]
  },
  {
   "cell_type": "code",
   "execution_count": 48,
   "id": "5626e21e-e0e3-48e9-b2b9-f79ab82b9fd9",
   "metadata": {
    "tags": []
   },
   "outputs": [],
   "source": [
    "df = sampled_df[sampled_df['transformed_symptoms'].str.strip() != '']"
   ]
  },
  {
   "cell_type": "code",
   "execution_count": 49,
   "id": "ad356b46-9fc9-4828-8151-0c40a61300e5",
   "metadata": {
    "tags": []
   },
   "outputs": [],
   "source": [
    "csv_file_path_2 = '/Users/andres/Library/CloudStorage/GoogleDrive-alvaro0126@gmail.com/Mi unidad/HKS MPA/2023-II/COMPSCI2015/Project/DDXPlus_Dataset_English/age_sex_symp_traindata.csv'\n",
    "df.to_csv(csv_file_path_2, index=False)"
   ]
  }
 ],
 "metadata": {
  "kernelspec": {
   "display_name": "Python 3 (ipykernel)",
   "language": "python",
   "name": "python3"
  },
  "language_info": {
   "codemirror_mode": {
    "name": "ipython",
    "version": 3
   },
   "file_extension": ".py",
   "mimetype": "text/x-python",
   "name": "python",
   "nbconvert_exporter": "python",
   "pygments_lexer": "ipython3",
   "version": "3.11.4"
  }
 },
 "nbformat": 4,
 "nbformat_minor": 5
}
