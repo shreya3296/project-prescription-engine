{
 "cells": [
  {
   "cell_type": "code",
   "execution_count": 1,
   "id": "9bac0400-6c4e-44d8-bd30-dc3eb9acc940",
   "metadata": {
    "tags": []
   },
   "outputs": [],
   "source": [
    "import pandas as pd\n",
    "import requests\n",
    "from bs4 import BeautifulSoup\n",
    "import re\n",
    "import json"
   ]
  },
  {
   "cell_type": "code",
   "execution_count": 3,
   "id": "1382ff2f-28ef-4432-9ea1-37c6c575b37a",
   "metadata": {
    "tags": []
   },
   "outputs": [],
   "source": [
    "# Make a request to the website\n",
    "r = requests.get('https://www.nhsinform.scot/illnesses-and-conditions/a-to-z#A')\n",
    "r.raise_for_status()  # Check if the request was successful\n",
    "\n",
    "# Parse the HTML\n",
    "soup = BeautifulSoup(r.text, 'html.parser')\n",
    "\n",
    "# Initialize an empty dictionary\n",
    "diseases_dict = {}\n",
    "\n",
    "# Iterate through all the anchor tags in the HTML\n",
    "for a_tag in soup.find_all('a'):\n",
    "    # Get the text content of the anchor tag, which is the disease name\n",
    "    disease_name = a_tag.text.strip()\n",
    "    diseases_dict[disease_name] = None  # You can replace None with any relevant data"
   ]
  },
  {
   "cell_type": "code",
   "execution_count": 4,
   "id": "f0329526-79ac-4f8c-96ac-554cfcca8c0f",
   "metadata": {
    "tags": []
   },
   "outputs": [],
   "source": [
    "# Make a request to the website\n",
    "r = requests.get('https://www.nhsinform.scot/illnesses-and-conditions/a-to-z#A')\n",
    "r.raise_for_status()  # Check if the request was successful\n",
    "\n",
    "# Parse the HTML\n",
    "soup = BeautifulSoup(r.text, 'html.parser')\n",
    "\n",
    "# Initialize an empty dictionary\n",
    "diseases_dict = {}\n",
    "\n",
    "# Find all the disease names and URLs\n",
    "for a_tag in soup.find_all('a', href=True):\n",
    "    if 'illnesses-and-conditions' in a_tag['href']:\n",
    "        disease_name = a_tag.text.strip()\n",
    "        disease_url = a_tag['href']\n",
    "        if not disease_url.startswith('https://'):\n",
    "            disease_url = 'https://www.nhsinform.scot' + disease_url\n",
    "        diseases_dict[disease_name] = disease_url"
   ]
  },
  {
   "cell_type": "code",
   "execution_count": 5,
   "id": "c77fa0ed-4b6a-4c05-be17-b9ccbc4ff656",
   "metadata": {
    "tags": []
   },
   "outputs": [],
   "source": [
    "# Assuming diseases_dict is your dictionary\n",
    "\n",
    "keys_to_remove = list(diseases_dict.keys())[:list(diseases_dict.keys()).index('Abdominal aortic aneurysm')]\n",
    "\n",
    "for key in keys_to_remove:\n",
    "    diseases_dict.pop(key)\n",
    "\n",
    "# Now diseases_dict will only have entries from 'Abdominal aortic aneurysm' onwards\n"
   ]
  },
  {
   "cell_type": "code",
   "execution_count": 6,
   "id": "0e4c303e-792a-4e09-8fdb-ded18a33c382",
   "metadata": {
    "tags": []
   },
   "outputs": [],
   "source": [
    "# Assuming diseases_dict is your dictionary\n",
    "\n",
    "keys_to_remove = list(diseases_dict.keys())[list(diseases_dict.keys()).index('Yellow fever') + 1:]\n",
    "\n",
    "for key in keys_to_remove:\n",
    "    diseases_dict.pop(key)\n",
    "\n",
    "# Now diseases_dict will only have entries up to 'Yellow fever'\n"
   ]
  },
  {
   "cell_type": "code",
   "execution_count": 7,
   "id": "94f8267a-b64a-4db5-a01b-697dac065931",
   "metadata": {
    "tags": []
   },
   "outputs": [],
   "source": [
    "diseases_dict.pop(\"Back to top\", None)"
   ]
  },
  {
   "cell_type": "code",
   "execution_count": 8,
   "id": "cb42b4c6-14dc-4695-8457-3cde7da4c061",
   "metadata": {
    "tags": []
   },
   "outputs": [],
   "source": [
    "df = pd.DataFrame(list(diseases_dict.items()), columns=['Disease', 'URL'])\n",
    "\n",
    "# Initialize empty lists to hold the disease descriptions and symptoms\n",
    "descriptions = []\n",
    "symptoms = []\n",
    "\n",
    "# Iterate over the rows of the DataFrame\n",
    "for index, row in df.iterrows():\n",
    "    # Make a request to the disease page\n",
    "    r = requests.get(row['URL'])\n",
    "    r.raise_for_status()  # Check if the request was successful\n",
    "    \n",
    "    # Parse the HTML\n",
    "    soup = BeautifulSoup(r.text, 'html.parser')\n",
    "    \n",
    "    # Extract the disease description\n",
    "    description_heading = soup.find('h2', string=re.compile('About|Introduction'))\n",
    "    if description_heading:\n",
    "        description = description_heading.find_next('p').text\n",
    "    else:\n",
    "        # If the About/Introduction heading is not found, extract all text from the parent tag of the disease name\n",
    "        disease_name_tag = soup.find('h1', string=row['Disease'])\n",
    "        if disease_name_tag:\n",
    "            parent_tag = disease_name_tag.find_parent()\n",
    "            description = parent_tag.get_text(separator=' ', strip=True)\n",
    "        else:\n",
    "            description = 'Description not found'\n",
    "    \n",
    "    # Extract the symptoms\n",
    "    symptoms_heading = soup.find('h2', string=re.compile('Symptoms|Signs and symptoms|symptoms'))\n",
    "    if symptoms_heading:\n",
    "        symptom = symptoms_heading.find_next('p').text\n",
    "    else:\n",
    "        symptom = 'Symptoms not found'\n",
    "    \n",
    "    # Append the extracted information to the lists\n",
    "    descriptions.append(description)\n",
    "    symptoms.append(symptom)\n",
    "\n",
    "# Add the extracted information to the DataFrame\n",
    "df['Description'] = descriptions\n",
    "df['Symptoms'] = symptoms\n",
    "\n",
    "# Now df contains all the extracted information"
   ]
  },
  {
   "cell_type": "code",
   "execution_count": 9,
   "id": "2419dafb-f120-4101-b182-af71685224f9",
   "metadata": {
    "tags": []
   },
   "outputs": [],
   "source": [
    "df['text'] = df['Description'] + ' ' + df['Symptoms']"
   ]
  },
  {
   "cell_type": "code",
   "execution_count": 10,
   "id": "676874ac-8825-4d0a-9524-580b310ad53b",
   "metadata": {
    "tags": []
   },
   "outputs": [],
   "source": [
    "df['formatted'] = df.apply(lambda row: f'(\"{row[\"text\"]}\", \"{row[\"Disease\"]}\")', axis=1)\n",
    "\n",
    "# Now, df['formatted'] contains the formatted strings\n",
    "formatted_data = df['formatted'].tolist()"
   ]
  },
  {
   "cell_type": "code",
   "execution_count": 11,
   "id": "6b400642-8e23-465e-bc1c-89302b39ec72",
   "metadata": {
    "tags": []
   },
   "outputs": [],
   "source": [
    "## OJO TOCA LIMPIAR UN POCO LA DATA PORQUE AUN HAY UNAS POCAS ENFERMEDADES\n",
    "# QUE NO LAS ESTA COGIENDO DE LA PAGINA. SON POCAS PERO HAY QUE IR DEPURANDO LA BASE."
   ]
  },
  {
   "cell_type": "code",
   "execution_count": 21,
   "id": "c1014769-a84b-425a-8413-cb9e7e50fdbf",
   "metadata": {
    "tags": []
   },
   "outputs": [
    {
     "name": "stdout",
     "output_type": "stream",
     "text": [
      "(\"An abdominal aortic aneurysm (AAA) is a swelling (aneurysm) of the aorta – the main blood vessel that leads away from the heart, down through the abdomen to the rest of the body. In most cases, an AAA causes no noticeable symptoms. However, if it becomes large, some people may develop a pain or a pulsating feeling in their abdomen (tummy) or persistent back pain.\", \"Abdominal aortic aneurysm\")\n",
      "(\"Acne is a common skin condition that affects most people at some point. It causes spots, oily skin and sometimes skin that's hot or painful to touch. Symptoms not found\", \"Acne\")\n",
      "(\"Description not found Symptoms not found\", \"Acute cholecystitis\")\n",
      "(\"Leukaemia is cancer of the white blood cells. Acute leukaemia means the condition progresses rapidly and aggressively and requires immediate treatment. Symptoms of acute lymphoblastic leukaemia usually begin slowly before rapidly getting severe as the number of blast cells (immature white blood cells) in your blood increases.\", \"Acute lymphoblastic leukaemia\")\n",
      "(\"Acute lymphoblastic leukaemia (ALL) is a type of blood cancer. One third of all childhood cancers are leukaemia. Approximately, 3 out of 4 of these are acute lymphoblastic (ALL). ALL can affect children of any age but is more common in children aged 1 to 4 years old. As the leukaemia cells multiply in the bone marrow, the production of normal blood cells is reduced. Children may therefore become tired and lethargic because of anaemia, which is caused by a lack of red blood cells.\", \"Acute lymphoblastic leukaemia: Children\")\n"
     ]
    }
   ],
   "source": [
    "# If you want to see the first 5 formatted strings\n",
    "for formatted_string in formatted_data[:5]:\n",
    "    print(formatted_string)"
   ]
  },
  {
   "cell_type": "code",
   "execution_count": 22,
   "id": "f70f2b8b-857a-49de-9684-3003234d069b",
   "metadata": {},
   "outputs": [],
   "source": [
    "data_list = df[['Disease', 'text']].to_dict('records')"
   ]
  },
  {
   "cell_type": "code",
   "execution_count": 23,
   "id": "a89d2201-7e31-49b0-889e-5f86b2f7e9d6",
   "metadata": {},
   "outputs": [],
   "source": [
    "# Initialize an empty list to hold the transformed data\n",
    "training_data = []\n",
    "\n",
    "# Iterate over each dictionary in the original data\n",
    "for item in data_list:\n",
    "    # Construct a new dictionary with the desired keys and values\n",
    "    new_item = {\n",
    "        'prompt': item['text'] + ' ->',\n",
    "        'completion': item['Disease'] + '\\n'\n",
    "    }\n",
    "    # Append the new dictionary to the transformed data list\n",
    "    training_data.append(new_item)"
   ]
  },
  {
   "cell_type": "code",
   "execution_count": 25,
   "id": "84a66437-7fe7-4ab6-8e24-23e36bde8129",
   "metadata": {},
   "outputs": [],
   "source": [
    "for entry in training_data:\n",
    "    # Add a whitespace character at the beginning of the completion value\n",
    "    # this is a requirement of OpenAI API due to the tokenization they use\n",
    "    entry['completion'] = ' ' + entry['completion']"
   ]
  },
  {
   "cell_type": "code",
   "execution_count": 26,
   "id": "21b5966e-0491-4c81-892f-62296137b143",
   "metadata": {},
   "outputs": [],
   "source": [
    "# Convert the list of dictionaries to JSON\n",
    "training_data_json = json.dumps(training_data, indent=4)\n",
    "\n",
    "# Save the JSON to a file\n",
    "with open('training_data.json', 'w') as f:\n",
    "    f.write(training_data_json)"
   ]
  },
  {
   "cell_type": "code",
   "execution_count": 27,
   "id": "de8cc394-0fdc-4fc7-93b3-6cc3a82937b9",
   "metadata": {
    "tags": []
   },
   "outputs": [],
   "source": [
    "## OJO TOCA LIMPIAR UN POCO LA DATA PORQUE AUN HAY UNAS POCAS ENFERMEDADES\n",
    "## QUE NO LAS ESTA COGIENDO DE LA PAGINA. SON POCAS PERO HAY QUE IR DEPURANDO LA BASE."
   ]
  },
  {
   "cell_type": "code",
   "execution_count": null,
   "id": "0f968303-bef7-4ed3-a781-5a3e807d4f51",
   "metadata": {},
   "outputs": [],
   "source": []
  }
 ],
 "metadata": {
  "kernelspec": {
   "display_name": "Python 3 (ipykernel)",
   "language": "python",
   "name": "python3"
  },
  "language_info": {
   "codemirror_mode": {
    "name": "ipython",
    "version": 3
   },
   "file_extension": ".py",
   "mimetype": "text/x-python",
   "name": "python",
   "nbconvert_exporter": "python",
   "pygments_lexer": "ipython3",
   "version": "3.11.4"
  }
 },
 "nbformat": 4,
 "nbformat_minor": 5
}
