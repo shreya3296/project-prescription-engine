{
 "cells": [
  {
   "cell_type": "code",
   "execution_count": null,
   "id": "c78b7f1b-0b9d-4478-aa50-09679363599f",
   "metadata": {},
   "outputs": [],
   "source": [
    "# do some fine tunning with Openai's API"
   ]
  },
  {
   "cell_type": "code",
   "execution_count": 132,
   "id": "ab7ba14c-0a0e-4f42-8797-f67d914e7005",
   "metadata": {},
   "outputs": [],
   "source": [
    "import json\n",
    "import openai\n",
    "import signal\n",
    "import datetime\n",
    "import time\n",
    "import requests\n",
    "import os\n",
    "import wandb\n",
    "from wandb.sdk.data_types.trace_tree import Trace"
   ]
  },
  {
   "cell_type": "code",
   "execution_count": 132,
   "id": "7ab15f20-3d6a-41fc-9b2a-24035f96524e",
   "metadata": {},
   "outputs": [
    {
     "data": {
      "text/html": [
       "Tracking run with wandb version 0.15.12"
      ],
      "text/plain": [
       "<IPython.core.display.HTML object>"
      ]
     },
     "metadata": {},
     "output_type": "display_data"
    },
    {
     "data": {
      "text/html": [
       "Run data is saved locally in <code>/Users/andres/Library/CloudStorage/GoogleDrive-alvaro0126@gmail.com/Mi unidad/HKS MPA/2023-II/COMPSCI2015/Project/wandb/run-20231005_185934-o6ctm1fi</code>"
      ],
      "text/plain": [
       "<IPython.core.display.HTML object>"
      ]
     },
     "metadata": {},
     "output_type": "display_data"
    },
    {
     "data": {
      "text/html": [
       "Syncing run <strong><a href='https://wandb.ai/alvaro0126/openai_finetuning/runs/o6ctm1fi' target=\"_blank\">fine_tune_prescription_openapi</a></strong> to <a href='https://wandb.ai/alvaro0126/openai_finetuning' target=\"_blank\">Weights & Biases</a> (<a href='https://wandb.me/run' target=\"_blank\">docs</a>)<br/>"
      ],
      "text/plain": [
       "<IPython.core.display.HTML object>"
      ]
     },
     "metadata": {},
     "output_type": "display_data"
    },
    {
     "data": {
      "text/html": [
       " View project at <a href='https://wandb.ai/alvaro0126/openai_finetuning' target=\"_blank\">https://wandb.ai/alvaro0126/openai_finetuning</a>"
      ],
      "text/plain": [
       "<IPython.core.display.HTML object>"
      ]
     },
     "metadata": {},
     "output_type": "display_data"
    },
    {
     "data": {
      "text/html": [
       " View run at <a href='https://wandb.ai/alvaro0126/openai_finetuning/runs/o6ctm1fi' target=\"_blank\">https://wandb.ai/alvaro0126/openai_finetuning/runs/o6ctm1fi</a>"
      ],
      "text/plain": [
       "<IPython.core.display.HTML object>"
      ]
     },
     "metadata": {},
     "output_type": "display_data"
    }
   ],
   "source": [
    "# w&b needs to be run first: \n",
    "# wandb login API_KEY\n",
    "\n",
    "# weights & biases\n",
    "wandb.init(project='openai_finetuning', name=\"fine_tune_prescription_openapi\")\n",
    "\n",
    "### the API key is loaded to the enviroment in the object $OPENAI_API_KEY\n",
    "api_key = os.getenv(\"$OPENAI_API_KEY\")\n",
    "openai.api_key = api_key\n",
    "\n",
    "loaded_data = []\n",
    "file_name = \"training_data.json\"\n",
    "with open(file_name, \"r\") as input_file:\n",
    "    training_data = json.load(input_file)\n",
    "\n",
    "# this is to go from json to jsonl (the format required by OpenAI's API)\n",
    "file_name = \"training_data.jsonl\"\n",
    "with open(file_name, \"w\") as output_file:\n",
    "    for entry in training_data:\n",
    "        json.dump(entry, output_file)\n",
    "        output_file.write(\"\\n\")"
   ]
  },
  {
   "cell_type": "code",
   "execution_count": 133,
   "id": "40371f0b-ab91-42fa-8f3e-097cf326d3b3",
   "metadata": {},
   "outputs": [
    {
     "data": {
      "text/plain": [
       "['/Users/andres/Library/CloudStorage/GoogleDrive-alvaro0126@gmail.com/Mi unidad/HKS MPA/2023-II/COMPSCI2015/Project/wandb/run-20231005_185934-o6ctm1fi/files/training_data.jsonl']"
      ]
     },
     "execution_count": 133,
     "metadata": {},
     "output_type": "execute_result"
    }
   ],
   "source": [
    "wandb.save(\"training_data.jsonl\")"
   ]
  },
  {
   "cell_type": "code",
   "execution_count": 131,
   "id": "25ab6c3b-9807-4b0c-be85-a69f25c5b43b",
   "metadata": {},
   "outputs": [],
   "source": [
    "# this is to run int he terminal and check the consistency of the file to upload\n",
    "\n",
    "!openai tools fine_tunes.prepare_data -f training_data.jsonl\n",
    "\n",
    "## Uploads the file and tries to fine tune\n",
    "## I think I can improve the code -AM\n",
    "!openai --api-key {api_key} api fine_tunes.create -t \"training_data.jsonl\" --compute_classification_metrics --classification_n_classes 316 -m ada\n",
    "\n",
    "\n",
    "# Set up the headers\n",
    "headers = {\"Authorization\": f\"Bearer {api_key}\"}\n",
    "\n",
    "# Make the request\n",
    "response = requests.get('https://api.openai.com/v1/files', headers=headers)\n",
    "\n",
    "# Print the response\n",
    "print(response.json())\n",
    "\n",
    "#load the API response to w&b\n",
    "wandb.log({\"API_Response\": response.json()})\n",
    "\n",
    "# code to start the fine tunning\n",
    "training_file_id = \"file-KmWn0bRL7eoPgoxRv0qi0Ct9\""
   ]
  },
  {
   "cell_type": "code",
   "execution_count": 131,
   "id": "616c2979-f181-485a-bab5-ce09c0c3fe3f",
   "metadata": {},
   "outputs": [],
   "source": [
    "create_args = {\"training_file\": training_file_id,\n",
    "               \"model\": \"davinci\", # this model is for classfication\n",
    "               \"n_epochs\": 15,\n",
    "               \"batch_size\": 3,\n",
    "               \"learning_rate_multiplier\": 0.3\n",
    "               }\n",
    "\n",
    "response = openai.FineTune.create(**create_args)\n",
    "job_id = response[\"id\"]\n",
    "status = response[\"status\"]\n",
    "\n",
    "print(f'Fine-tunning model with jobID: {job_id}.')\n",
    "print(f\"Training Response: {response}\")\n",
    "print(f\"Training Status: {status}\")\n",
    "\n",
    "# log metrics to W&B\n",
    "wandb.log({\n",
    "    \"job_id\": job_id,\n",
    "    \"Training Response\": str(response),\n",
    "    \"Training Status\": status\n",
    "})\n",
    "\n",
    "# function created to check the characteristics of the job\n",
    "\n",
    "def signal_handler(sig, frame):\n",
    "    status = openai.FineTune.retrieve(job_id).status\n",
    "    print(f\"Stream interrupted. Job is still {status}.\")\n",
    "    return\n",
    "\n",
    "print(f'Streaming events for the fine-tuning job: {job_id}')\n",
    "signal.signal(signal.SIGINT, signal_handler)\n",
    "\n",
    "events = openai.FineTune.stream_events(job_id)\n",
    "try:\n",
    "    for event in events:\n",
    "        print(f'{datetime.datetime.fromtimestamp(event[\"created_at\"])} {event[\"message\"]}')\n",
    "\n",
    "except Exception:\n",
    "    print(\"Stream interrupted (client disconnected).\")\n",
    "\n",
    "# function to check constantly the status of the fine tunning in the API's\n",
    "\n",
    "status = openai.FineTune.retrieve(id=job_id)[\"status\"]\n",
    "if status not in [\"succeeded\", \"failed\"]:\n",
    "    print(f'Job not in terminal status: {status}. Waiting.')\n",
    "    while status not in [\"succeeded\", \"failed\"]:\n",
    "        time.sleep(2)\n",
    "        status = openai.FineTune.retrieve(id=job_id)[\"status\"]\n",
    "        print(f'Status: {status}')\n",
    "else:\n",
    "    print(f'Finetune job {job_id} finished with status: {status}')\n",
    "\n",
    "print('Checking other finetune jobs in the subscription.')\n",
    "result = openai.FineTune.list()\n",
    "print(f'Found {len(result.data)} finetune jobs.')"
   ]
  },
  {
   "cell_type": "code",
   "execution_count": 134,
   "id": "d311db06-9903-466d-b30c-97dbcc0aa851",
   "metadata": {},
   "outputs": [
    {
     "name": "stdout",
     "output_type": "stream",
     "text": [
      "\n",
      "result of gastroenteritis\n",
      "A: gastroenteritis\n",
      "EHEC\n"
     ]
    },
    {
     "data": {
      "text/html": [
       "Waiting for W&B process to finish... <strong style=\"color:green\">(success).</strong>"
      ],
      "text/plain": [
       "<IPython.core.display.HTML object>"
      ]
     },
     "metadata": {},
     "output_type": "display_data"
    },
    {
     "name": "stderr",
     "output_type": "stream",
     "text": [
      "\u001b[34m\u001b[1mwandb\u001b[0m: \u001b[32m\u001b[41mERROR\u001b[0m Control-C detected -- Run data was not synced\n"
     ]
    }
   ],
   "source": [
    "#retrive the fine-tuned model\n",
    "model_id = \"ft:davinci-002:personal::869HquyK\" \n",
    "model = openai.Model(model_id) \n",
    "\n",
    "#create the prompt for the model\n",
    "prompt = \"the patient has abdominal pains and fever\"\n",
    "\n",
    "answer = openai.Completion.create(\n",
    "  model = model_id,\n",
    "  prompt = prompt\n",
    ")\n",
    "\n",
    "print(answer['choices'][0]['text'])\n",
    "\n",
    "#end weights and balances\n",
    "wandb.finish()"
   ]
  },
  {
   "cell_type": "code",
   "execution_count": null,
   "id": "5cb64cbd-55c4-4557-95f3-9d7bb2546562",
   "metadata": {},
   "outputs": [],
   "source": []
  }
 ],
 "metadata": {
  "kernelspec": {
   "display_name": "Python 3 (ipykernel)",
   "language": "python",
   "name": "python3"
  },
  "language_info": {
   "codemirror_mode": {
    "name": "ipython",
    "version": 3
   },
   "file_extension": ".py",
   "mimetype": "text/x-python",
   "name": "python",
   "nbconvert_exporter": "python",
   "pygments_lexer": "ipython3",
   "version": "3.11.4"
  }
 },
 "nbformat": 4,
 "nbformat_minor": 5
}
